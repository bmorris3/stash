{
 "cells": [
  {
   "cell_type": "code",
   "execution_count": 1,
   "metadata": {},
   "outputs": [
    {
     "name": "stdout",
     "output_type": "stream",
     "text": [
      "Downloading http://jsoc.stanford.edu/SUM99/D1098347300/S00000/continuum.fits [Done]\n",
      "Downloading http://jsoc.stanford.edu/SUM18/D1099363765/S00000/continuum.fits [Done]\n",
      "Downloading http://jsoc.stanford.edu/SUM22/D1099385051/S00000/continuum.fits [Done]\n",
      "Downloading http://jsoc.stanford.edu/SUM16/D1099790082/S00000/continuum.fits [Done]\n",
      "Downloading http://jsoc.stanford.edu/SUM79/D1099805696/S00000/continuum.fits [Done]\n",
      "Downloading http://jsoc.stanford.edu/SUM9/D1100098511/S00000/continuum.fits [Done]\n",
      "Downloading http://jsoc.stanford.edu/SUM73/D1100421125/S00000/continuum.fits [Done]\n",
      "Downloading http://jsoc.stanford.edu/SUM86/D1100775743/S00000/continuum.fits [Done]\n",
      "Downloading http://jsoc.stanford.edu/SUM80/D1101771098/S00000/continuum.fits [Done]\n",
      "Downloading http://jsoc.stanford.edu/SUM90/D1101865503/S00000/continuum.fits [Done]\n",
      "Downloading http://jsoc.stanford.edu/SUM88/D1101888357/S00000/continuum.fits [Done]\n",
      "Downloading http://jsoc.stanford.edu/SUM86/D1102387686/S00000/continuum.fits [Done]\n",
      "Downloading http://jsoc.stanford.edu/SUM84/D1103591027/S00000/continuum.fits [Done]\n",
      "Downloading http://jsoc.stanford.edu/SUM83/D1103560407/S00000/continuum.fits [Done]\n",
      "Downloading http://jsoc.stanford.edu/SUM94/D1103572028/S00000/continuum.fits [Done]\n",
      "Downloading http://jsoc.stanford.edu/SUM83/D1103601217/S00000/continuum.fits [Done]\n",
      "Downloading http://jsoc.stanford.edu/SUM85/D1104331030/S00000/continuum.fits [Done]\n",
      "Downloading http://jsoc.stanford.edu/SUM80/D1104954654/S00000/continuum.fits [Done]\n",
      "Downloading http://jsoc.stanford.edu/SUM76/D1104967093/S00000/continuum.fits [Done]\n",
      "Downloading http://jsoc.stanford.edu/SUM81/D1105326806/S00000/continuum.fits [Done]\n",
      "Downloading http://jsoc.stanford.edu/SUM95/D1105673813/S00000/continuum.fits [Done]\n",
      "Downloading http://jsoc.stanford.edu/SUM88/D1107520511/S00000/continuum.fits [Done]\n",
      "Downloading http://jsoc.stanford.edu/SUM78/D1107751656/S00000/continuum.fits [Done]\n"
     ]
    }
   ],
   "source": [
    "from astropy.io import fits\n",
    "import drms\n",
    "import os\n",
    "\n",
    "c = drms.Client()\n",
    "keys, segments = c.query('hmi.Ic_45s_dcon[2018.01.01_TAI/365d@1m]',\n",
    "                         key=drms.const.all, seg='continuum')\n",
    "\n",
    "for i in range(0, len(segments)):\n",
    "    filename = \"decon/{0}.fits\".format(keys['DATE__OBS'][i].split('T')[0])\n",
    "    \n",
    "    if not os.path.exists(filename):\n",
    "        url = 'http://jsoc.stanford.edu' + segments.continuum[i]\n",
    "        fits.open(url).writeto(filename)"
   ]
  },
  {
   "cell_type": "code",
   "execution_count": null,
   "metadata": {},
   "outputs": [],
   "source": []
  }
 ],
 "metadata": {
  "kernelspec": {
   "display_name": "Python 3",
   "language": "python",
   "name": "python3"
  },
  "language_info": {
   "codemirror_mode": {
    "name": "ipython",
    "version": 3
   },
   "file_extension": ".py",
   "mimetype": "text/x-python",
   "name": "python",
   "nbconvert_exporter": "python",
   "pygments_lexer": "ipython3",
   "version": "3.5.4"
  }
 },
 "nbformat": 4,
 "nbformat_minor": 2
}
