{
 "cells": [
  {
   "cell_type": "code",
   "execution_count": null,
   "metadata": {},
   "outputs": [],
   "source": [
    "%matplotlib inline \n",
    "import matplotlib.pyplot as plt\n",
    "import numpy as np\n",
    "from astropy.utils.data import download_file\n",
    "from astropy.io import fits\n",
    "import drms\n",
    "\n",
    "c = drms.Client()\n",
    "keys, segments = c.query('hmi.Ic_45s_dcon[2018.01.01_TAI/365d@1m]',\n",
    "                         key=drms.const.all, seg='continuum')\n",
    "\n",
    "for i in range(0, len(segments)):\n",
    "    url = 'http://jsoc.stanford.edu' + segments.continuum[i]\n",
    "    fits.open(url).writeto(\"decon/{0}.fits\".format(keys['DATE__OBS'][i].split('T')[0]), overwrite=True)"
   ]
  }
 ],
 "metadata": {
  "kernelspec": {
   "display_name": "Python 3",
   "language": "python",
   "name": "python3"
  },
  "language_info": {
   "codemirror_mode": {
    "name": "ipython",
    "version": 3
   },
   "file_extension": ".py",
   "mimetype": "text/x-python",
   "name": "python",
   "nbconvert_exporter": "python",
   "pygments_lexer": "ipython3",
   "version": "3.5.4"
  }
 },
 "nbformat": 4,
 "nbformat_minor": 2
}
